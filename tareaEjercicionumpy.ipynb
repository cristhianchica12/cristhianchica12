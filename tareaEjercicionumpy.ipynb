{
  "nbformat": 4,
  "nbformat_minor": 0,
  "metadata": {
    "colab": {
      "provenance": [],
      "authorship_tag": "ABX9TyOxGi6EshocvP0SyJSd/OOq",
      "include_colab_link": true
    },
    "kernelspec": {
      "name": "python3",
      "display_name": "Python 3"
    },
    "language_info": {
      "name": "python"
    }
  },
  "cells": [
    {
      "cell_type": "markdown",
      "metadata": {
        "id": "view-in-github",
        "colab_type": "text"
      },
      "source": [
        "<a href=\"https://colab.research.google.com/github/cristhianchica12/cristhianchica12/blob/main/tareaEjercicionumpy.ipynb\" target=\"_parent\"><img src=\"https://colab.research.google.com/assets/colab-badge.svg\" alt=\"Open In Colab\"/></a>"
      ]
    },
    {
      "cell_type": "markdown",
      "source": [
        "1.Import numpy as np and see the version(Importar la version de numpy)"
      ],
      "metadata": {
        "id": "ZwwMfwQaWDRj"
      }
    },
    {
      "cell_type": "code",
      "execution_count": 2,
      "metadata": {
        "colab": {
          "base_uri": "https://localhost:8080/"
        },
        "id": "AqMtYL3ww6f2",
        "outputId": "e27f0465-6dd7-4818-ae6b-172de06cd0b7"
      },
      "outputs": [
        {
          "output_type": "stream",
          "name": "stdout",
          "text": [
            "Python 3.10.12\n"
          ]
        }
      ],
      "source": [
        "!python --version\n",
        "import numpy as np\n"
      ]
    },
    {
      "cell_type": "markdown",
      "source": [
        "Ejercicios en clase\n"
      ],
      "metadata": {
        "id": "yZJQTwlq0fmv"
      }
    },
    {
      "cell_type": "code",
      "source": [
        "!python --version"
      ],
      "metadata": {
        "colab": {
          "base_uri": "https://localhost:8080/"
        },
        "id": "JTLkKjnb0kYG",
        "outputId": "9f91e3ca-7f00-4b9a-e4f0-eb39091c50df"
      },
      "execution_count": null,
      "outputs": [
        {
          "output_type": "stream",
          "name": "stdout",
          "text": [
            "Python 3.10.12\n"
          ]
        }
      ]
    },
    {
      "cell_type": "markdown",
      "source": [
        "2. eate a 1D array of numbers from 0 to 9 (Arreglo de 1 dimensión del 0 al 9)"
      ],
      "metadata": {
        "id": "lz_Qn9GV2hv2"
      }
    },
    {
      "cell_type": "code",
      "source": [
        "import numpy as ap\n",
        "practica=np.array([0,1,2,3,4,5,6,7,8,9])\n",
        "print(practica)\n",
        "print(practica.shape)\n"
      ],
      "metadata": {
        "colab": {
          "base_uri": "https://localhost:8080/"
        },
        "id": "aAQ_KrrO0zrS",
        "outputId": "6558e31d-e3e4-4c3f-b7c1-cc01a2609e24"
      },
      "execution_count": 5,
      "outputs": [
        {
          "output_type": "stream",
          "name": "stdout",
          "text": [
            "[0 1 2 3 4 5 6 7 8 9]\n",
            "(10,)\n"
          ]
        }
      ]
    },
    {
      "cell_type": "markdown",
      "source": [
        "3. Cree una matriz numpy de 3 × 3 de todos los True(Cree una matriz numpy de 3 × 3 de todos los True)"
      ],
      "metadata": {
        "id": "wkZ43XPPY7-J"
      }
    },
    {
      "cell_type": "code",
      "source": [
        "arreglo_3x3 = np.full((3, 3), True, dtype=bool)\n",
        "print(arreglo_3x3)\n"
      ],
      "metadata": {
        "id": "4MU5QLznZDfA",
        "colab": {
          "base_uri": "https://localhost:8080/"
        },
        "outputId": "8582aaee-88e9-4cd5-9100-a61eb0fbaba4"
      },
      "execution_count": 3,
      "outputs": [
        {
          "output_type": "stream",
          "name": "stdout",
          "text": [
            "[[ True  True  True]\n",
            " [ True  True  True]\n",
            " [ True  True  True]]\n"
          ]
        }
      ]
    },
    {
      "cell_type": "markdown",
      "source": [
        "4. Extract all odd numbers from arr"
      ],
      "metadata": {
        "id": "yJMjQDj_OEsC"
      }
    },
    {
      "cell_type": "code",
      "source": [
        "impares = practica[practica % 2 != 0]\n",
        "print(impares)"
      ],
      "metadata": {
        "colab": {
          "base_uri": "https://localhost:8080/"
        },
        "id": "xuwxroSOOdm6",
        "outputId": "d6976780-02f0-4889-a415-14296743a197"
      },
      "execution_count": 6,
      "outputs": [
        {
          "output_type": "stream",
          "name": "stdout",
          "text": [
            "[1 3 5 7 9]\n"
          ]
        }
      ]
    },
    {
      "cell_type": "markdown",
      "source": [
        "5. Replace all odd numbers in arr with -1"
      ],
      "metadata": {
        "id": "nMMOG324O61R"
      }
    },
    {
      "cell_type": "code",
      "source": [
        "practica[practica % 2 != 0] = -1\n",
        "print(practica)"
      ],
      "metadata": {
        "colab": {
          "base_uri": "https://localhost:8080/"
        },
        "id": "X1uvlvaSO_O1",
        "outputId": "664272c7-06e4-4482-87a8-c4ffda3dee09"
      },
      "execution_count": 8,
      "outputs": [
        {
          "output_type": "stream",
          "name": "stdout",
          "text": [
            "[ 0 -1  2 -1  4 -1  6 -1  8 -1]\n"
          ]
        }
      ]
    },
    {
      "cell_type": "markdown",
      "source": [
        "6. Convert a 1D array to a 2D array with 2 rows"
      ],
      "metadata": {
        "id": "lAH7jgPbPROY"
      }
    },
    {
      "cell_type": "code",
      "source": [
        "practica2 = practica.reshape(2, -1)\n",
        "print(practica2)"
      ],
      "metadata": {
        "colab": {
          "base_uri": "https://localhost:8080/"
        },
        "id": "qAxp4F4XPUwg",
        "outputId": "f4e4ba7c-e5c4-4e8c-aa13-cca8b56283ba"
      },
      "execution_count": 9,
      "outputs": [
        {
          "output_type": "stream",
          "name": "stdout",
          "text": [
            "[[ 0 -1  2 -1  4]\n",
            " [-1  6 -1  8 -1]]\n"
          ]
        }
      ]
    },
    {
      "cell_type": "markdown",
      "source": [
        "7. Stack arrays a and b vertically"
      ],
      "metadata": {
        "id": "KDb-lysVPmAg"
      }
    },
    {
      "cell_type": "code",
      "source": [
        "a = np.array([19, 20, 32])\n",
        "b = np.array([8, 7, 6])\n",
        "vertical = np.vstack((a, b))\n",
        "print(vertical)"
      ],
      "metadata": {
        "colab": {
          "base_uri": "https://localhost:8080/"
        },
        "id": "Wl_d4wxZPpfI",
        "outputId": "63ac7f89-c8e7-46b1-d9ab-ebf83ffd2e96"
      },
      "execution_count": 11,
      "outputs": [
        {
          "output_type": "stream",
          "name": "stdout",
          "text": [
            "[[19 20 32]\n",
            " [ 8  7  6]]\n"
          ]
        }
      ]
    },
    {
      "cell_type": "markdown",
      "source": [
        "8. Stack the arrays a and b horizontally."
      ],
      "metadata": {
        "id": "QlCRZoHOP7xA"
      }
    },
    {
      "cell_type": "code",
      "source": [
        "a = np.array([5, 6, 7])\n",
        "b = np.array([22, 21, 20])\n",
        "horizontal = np.hstack((a, b))\n",
        "print(horizontal)"
      ],
      "metadata": {
        "colab": {
          "base_uri": "https://localhost:8080/"
        },
        "id": "kWYoAuBpP_x0",
        "outputId": "587591f7-2027-4e87-e425-a991a75ea4fe"
      },
      "execution_count": 12,
      "outputs": [
        {
          "output_type": "stream",
          "name": "stdout",
          "text": [
            "[ 5  6  7 22 21 20]\n"
          ]
        }
      ]
    },
    {
      "cell_type": "markdown",
      "source": [
        "  9. Get all items between 5 and 10 from a."
      ],
      "metadata": {
        "id": "GUQbBwQKQNpw"
      }
    },
    {
      "cell_type": "code",
      "source": [
        "a = np.array([0, 1, 2, 3, 4, 5, 6, 7, 8, 9])\n",
        "rango_5_10= a[(a >= 5) & (a <= 10)]\n",
        "print(rango_5_10)"
      ],
      "metadata": {
        "colab": {
          "base_uri": "https://localhost:8080/"
        },
        "id": "vcRjWfNZQRU4",
        "outputId": "c206915c-c874-41b6-eea6-843ff6333ead"
      },
      "execution_count": 13,
      "outputs": [
        {
          "output_type": "stream",
          "name": "stdout",
          "text": [
            "[5 6 7 8 9]\n"
          ]
        }
      ]
    },
    {
      "cell_type": "markdown",
      "source": [
        "10. How to make a python function that handles scalars to work on numpy arrays"
      ],
      "metadata": {
        "id": "G2m8eimLQwHK"
      }
    },
    {
      "cell_type": "code",
      "source": [
        "# Desired Output:\n",
        "# a = np.array([5, 7, 9, 8, 6, 4, 5])\n",
        "# b = np.array([6, 3, 4, 8, 9, 7, 1])\n",
        "\n",
        "\n",
        "# b = np.array([6, 3, 4, 8, 9, 7, 1])\n",
        "# pair_max(a, b)\n",
        "# #> array([ 6.,  7.,  9.,  8.,  9.,  7.,  5.])\n",
        "# your code here\n",
        "import numpy as np\n",
        "def maxx(x, y):\n",
        "    \"\"\"Get the maximum of two items\"\"\"\n",
        "    if x >= y:\n",
        "        return x\n",
        "    else:\n",
        "        return y\n",
        "a = np.array([5, 7, 9, 8, 6, 4, 5])\n",
        "b = np.array([6, 3, 4, 8, 9, 7, 1])\n",
        "#maxx(a, b)\n",
        "tmp=list()\n",
        "for i in range(len(a)):\n",
        "  tmp.append(maxx(a[i],b[i]))\n",
        "\n",
        "print(tmp)"
      ],
      "metadata": {
        "colab": {
          "base_uri": "https://localhost:8080/"
        },
        "id": "rTXehoGWQwnQ",
        "outputId": "965f031d-31bb-4a43-9f0d-4d07e2aefd18"
      },
      "execution_count": 14,
      "outputs": [
        {
          "output_type": "stream",
          "name": "stdout",
          "text": [
            "[6, 7, 9, 8, 9, 7, 5]\n"
          ]
        }
      ]
    },
    {
      "cell_type": "markdown",
      "source": [
        " 11. Swap columns 1 and 2 in the array arr."
      ],
      "metadata": {
        "id": "c_jL_nZtQ2PR"
      }
    },
    {
      "cell_type": "code",
      "source": [
        "# Hint\n",
        "# Desired Output:\n",
        "# [[0 2 1]\n",
        "#  [3 5 4]\n",
        "#  [6 8 7]]\n",
        "\n",
        "arreglo = np.arange(9).reshape(3, 3)\n",
        "print(\"Original:\")\n",
        "print(arreglo)\n",
        "\n",
        "# Intercambiar las columnas 1 y 2\n",
        "arreglo[:, [1, 2]] = arreglo[:, [2, 1]]\n",
        "\n",
        "print(arreglo)"
      ],
      "metadata": {
        "colab": {
          "base_uri": "https://localhost:8080/"
        },
        "id": "MFOls-46Q6Ww",
        "outputId": "b4e80b13-ba90-41f1-c076-8b507e74c3bb"
      },
      "execution_count": 16,
      "outputs": [
        {
          "output_type": "stream",
          "name": "stdout",
          "text": [
            "Original:\n",
            "[[0 1 2]\n",
            " [3 4 5]\n",
            " [6 7 8]]\n",
            "[[0 2 1]\n",
            " [3 5 4]\n",
            " [6 8 7]]\n"
          ]
        }
      ]
    },
    {
      "cell_type": "markdown",
      "source": [
        "12. Create a 2D array of shape 5x3 to contain random decimal numbers between 5"
      ],
      "metadata": {
        "id": "wwApzdatRWOK"
      }
    },
    {
      "cell_type": "code",
      "source": [
        "# The desired Output should be like the following one:\n",
        "#  [[ 8.50061025  9.10531502  6.85867783]\n",
        "#   [ 9.76262069  9.87717411  7.13466701]\n",
        "#   [ 7.48966403  8.33409158  6.16808631]\n",
        "#   [ 7.75010551  9.94535696  5.27373226]\n",
        "#   [ 8.0850361   5.56165518  7.31244004]]\n",
        "\n",
        "random_a = np.random.uniform(5, 10, (5, 3))\n",
        "\n",
        "print(random_a)"
      ],
      "metadata": {
        "colab": {
          "base_uri": "https://localhost:8080/"
        },
        "id": "YIcMcRcBRXYL",
        "outputId": "7e8d3320-7303-4ba7-9e60-07213abfbecc"
      },
      "execution_count": 17,
      "outputs": [
        {
          "output_type": "stream",
          "name": "stdout",
          "text": [
            "[[9.34495342 6.63460686 9.55178342]\n",
            " [6.15241087 5.84611639 8.9274072 ]\n",
            " [5.95522155 5.27764098 6.83297135]\n",
            " [9.56418688 6.07553076 7.53787523]\n",
            " [6.03912103 7.52885899 5.47825577]]\n"
          ]
        }
      ]
    },
    {
      "cell_type": "markdown",
      "source": [
        "Funcion"
      ],
      "metadata": {
        "id": "qHFwzQst2yYg"
      }
    },
    {
      "cell_type": "code",
      "source": [
        "import numpy as np\n",
        "practica=np.array([3,33,333])\n",
        "print(practica)\n",
        "print(practica.shape)\n",
        "b=np.zeros((4,6))\n",
        "b\n",
        "print(b.shape)\n",
        "print(b)\n",
        "b[3,3]=120\n",
        "print(b)\n",
        "print(b[:,[2,3]])\n",
        "#print(b)\n",
        "\n",
        "print(b[:,[2,3]])"
      ],
      "metadata": {
        "colab": {
          "base_uri": "https://localhost:8080/"
        },
        "id": "bW2G6sBF20Fk",
        "outputId": "56777c09-eaf3-44a0-8e0f-77e4b735d11f"
      },
      "execution_count": null,
      "outputs": [
        {
          "output_type": "stream",
          "name": "stdout",
          "text": [
            "[  3  33 333]\n",
            "(3,)\n",
            "(4, 6)\n",
            "[[0. 0. 0. 0. 0. 0.]\n",
            " [0. 0. 0. 0. 0. 0.]\n",
            " [0. 0. 0. 0. 0. 0.]\n",
            " [0. 0. 0. 0. 0. 0.]]\n",
            "[[  0.   0.   0.   0.   0.   0.]\n",
            " [  0.   0.   0.   0.   0.   0.]\n",
            " [  0.   0.   0.   0.   0.   0.]\n",
            " [  0.   0.   0. 120.   0.   0.]]\n",
            "[[  0.   0.]\n",
            " [  0.   0.]\n",
            " [  0.   0.]\n",
            " [  0. 120.]]\n",
            "[[  0.   0.]\n",
            " [  0.   0.]\n",
            " [  0.   0.]\n",
            " [  0. 120.]]\n"
          ]
        }
      ]
    },
    {
      "cell_type": "code",
      "source": [
        "c=np.random.randint(low=4,high=12,size=(4,5))"
      ],
      "metadata": {
        "id": "Xk7VspM04dd9"
      },
      "execution_count": null,
      "outputs": []
    },
    {
      "cell_type": "markdown",
      "source": [
        "otro"
      ],
      "metadata": {
        "id": "sEcv9lFn4z6F"
      }
    },
    {
      "cell_type": "code",
      "source": [
        "c=np.random.randint(low=4,high=12,size=(2,2))\n",
        "d=np.random.randint(low=1,high=12,size=(2,2))\n",
        "\n",
        "\n"
      ],
      "metadata": {
        "id": "riz6QQAe420b"
      },
      "execution_count": null,
      "outputs": []
    },
    {
      "cell_type": "markdown",
      "source": [
        "c"
      ],
      "metadata": {
        "id": "SZ9QyBg160sN"
      }
    },
    {
      "cell_type": "code",
      "source": [
        "print(c)"
      ],
      "metadata": {
        "colab": {
          "base_uri": "https://localhost:8080/"
        },
        "id": "Bxpx3NRH61SN",
        "outputId": "210900f3-abc4-4940-e0a3-bda55ba38fc2"
      },
      "execution_count": null,
      "outputs": [
        {
          "output_type": "stream",
          "name": "stdout",
          "text": [
            "[[ 8 10]\n",
            " [ 7  9]]\n"
          ]
        }
      ]
    },
    {
      "cell_type": "markdown",
      "source": [
        "d"
      ],
      "metadata": {
        "id": "VCM7OMyj64eN"
      }
    },
    {
      "cell_type": "code",
      "source": [
        "print(d)"
      ],
      "metadata": {
        "colab": {
          "base_uri": "https://localhost:8080/"
        },
        "id": "MAHxrpdh66nt",
        "outputId": "6ba7ec0c-0d20-4ba0-a68a-fd27880e3ed6"
      },
      "execution_count": null,
      "outputs": [
        {
          "output_type": "stream",
          "name": "stdout",
          "text": [
            "[[2 2]\n",
            " [2 5]]\n"
          ]
        }
      ]
    },
    {
      "cell_type": "markdown",
      "source": [
        "vertical\n"
      ],
      "metadata": {
        "id": "FrQ8pimG6Xa0"
      }
    },
    {
      "cell_type": "code",
      "source": [
        "aux=np.vstack((c,d))\n",
        "print(aux)"
      ],
      "metadata": {
        "colab": {
          "base_uri": "https://localhost:8080/"
        },
        "id": "M7g5XKAG6HG8",
        "outputId": "752fd8b1-9439-480c-d97d-96581049367e"
      },
      "execution_count": null,
      "outputs": [
        {
          "output_type": "stream",
          "name": "stdout",
          "text": [
            "[[4 4]\n",
            " [7 9]\n",
            " [5 8]\n",
            " [5 2]]\n"
          ]
        }
      ]
    },
    {
      "cell_type": "markdown",
      "source": [
        "horizontal"
      ],
      "metadata": {
        "id": "VfD0YujU6ZRY"
      }
    },
    {
      "cell_type": "code",
      "source": [
        "aux=np.hstack((c,d))\n",
        "print(aux)"
      ],
      "metadata": {
        "colab": {
          "base_uri": "https://localhost:8080/"
        },
        "id": "RnpVFhmT6avx",
        "outputId": "45877073-a4d9-4ef6-cb91-9221f1e1877d"
      },
      "execution_count": null,
      "outputs": [
        {
          "output_type": "stream",
          "name": "stdout",
          "text": [
            "[[4 4 5 8]\n",
            " [7 9 5 2]]\n"
          ]
        }
      ]
    },
    {
      "cell_type": "code",
      "source": [
        "c=np.random.randint(low=4,high=12,size=(9))\n",
        "print(c)\n",
        "print(c.shape)"
      ],
      "metadata": {
        "colab": {
          "base_uri": "https://localhost:8080/"
        },
        "id": "1FSlGqVl6--H",
        "outputId": "c4fb85b1-7cd9-426d-fe2f-b0167c47c067"
      },
      "execution_count": null,
      "outputs": [
        {
          "output_type": "stream",
          "name": "stdout",
          "text": [
            "[ 8  5  8 10  9  4  6  9  8]\n",
            "(9,)\n"
          ]
        }
      ]
    },
    {
      "cell_type": "markdown",
      "source": [
        "Numeros mayores a 8"
      ],
      "metadata": {
        "id": "dNhLMNgi757C"
      }
    },
    {
      "cell_type": "code",
      "source": [
        "filtro=(c>8)\n",
        "print(c[filtro])"
      ],
      "metadata": {
        "colab": {
          "base_uri": "https://localhost:8080/"
        },
        "id": "IADTAroG8N2M",
        "outputId": "43be4565-62ba-45b7-9320-e3d57e7e5661"
      },
      "execution_count": null,
      "outputs": [
        {
          "output_type": "stream",
          "name": "stdout",
          "text": [
            "[10  9  9]\n"
          ]
        }
      ]
    },
    {
      "cell_type": "markdown",
      "source": [
        "numeros menores a10"
      ],
      "metadata": {
        "id": "836309pK8kvD"
      }
    },
    {
      "cell_type": "code",
      "source": [
        "filtro=(c<10)\n",
        "print(c[filtro])"
      ],
      "metadata": {
        "colab": {
          "base_uri": "https://localhost:8080/"
        },
        "id": "txf5U0q38n45",
        "outputId": "0ada6c79-fef0-4efd-fa20-4054dd836fff"
      },
      "execution_count": null,
      "outputs": [
        {
          "output_type": "stream",
          "name": "stdout",
          "text": [
            "[8 5 8 9 4 6 9 8]\n"
          ]
        }
      ]
    },
    {
      "cell_type": "markdown",
      "source": [
        "valores que son par"
      ],
      "metadata": {
        "id": "pJdLThiU85_D"
      }
    },
    {
      "cell_type": "code",
      "source": [
        "c[c%2==0]"
      ],
      "metadata": {
        "colab": {
          "base_uri": "https://localhost:8080/"
        },
        "id": "s1weTzBe8ygH",
        "outputId": "8ee1945c-a61a-456a-e591-b1c4c7a5bbce"
      },
      "execution_count": null,
      "outputs": [
        {
          "output_type": "execute_result",
          "data": {
            "text/plain": [
              "array([ 8,  8, 10,  4,  6,  8])"
            ]
          },
          "metadata": {},
          "execution_count": 23
        }
      ]
    },
    {
      "cell_type": "markdown",
      "source": [
        "valores que son impar"
      ],
      "metadata": {
        "id": "DAH4T5Wt8_JT"
      }
    },
    {
      "cell_type": "code",
      "source": [
        "c[c%2!=0]"
      ],
      "metadata": {
        "colab": {
          "base_uri": "https://localhost:8080/"
        },
        "id": "cThEEgB39B28",
        "outputId": "13728135-c11c-472a-cff4-459217e5ee5b"
      },
      "execution_count": null,
      "outputs": [
        {
          "output_type": "execute_result",
          "data": {
            "text/plain": [
              "array([5, 9, 9])"
            ]
          },
          "metadata": {},
          "execution_count": 24
        }
      ]
    },
    {
      "cell_type": "markdown",
      "source": [
        "remmplazar numeros impares"
      ],
      "metadata": {
        "id": "V1g4i5l29TKu"
      }
    },
    {
      "cell_type": "code",
      "source": [
        "c[c%2!=0]=100\n",
        "print(c)"
      ],
      "metadata": {
        "colab": {
          "base_uri": "https://localhost:8080/"
        },
        "id": "KHitZWUs9VkW",
        "outputId": "c8d8b2c0-e4c8-4a3b-989a-a23c7eb35ae3"
      },
      "execution_count": null,
      "outputs": [
        {
          "output_type": "stream",
          "name": "stdout",
          "text": [
            "[  8 100   8  10 100   4   6 100   8]\n"
          ]
        }
      ]
    },
    {
      "cell_type": "markdown",
      "source": [
        "rango de valores"
      ],
      "metadata": {
        "id": "GgC6u7S296YT"
      }
    },
    {
      "cell_type": "code",
      "source": [
        "c[(c>5) & (c<10)]"
      ],
      "metadata": {
        "colab": {
          "base_uri": "https://localhost:8080/"
        },
        "id": "AtjdBlGA98sb",
        "outputId": "9242c48e-55bc-4fda-a233-949f6bead618"
      },
      "execution_count": null,
      "outputs": [
        {
          "output_type": "execute_result",
          "data": {
            "text/plain": [
              "array([8, 8, 6, 8])"
            ]
          },
          "metadata": {},
          "execution_count": 26
        }
      ]
    },
    {
      "cell_type": "markdown",
      "source": [
        "ejercicio 10 del deber"
      ],
      "metadata": {
        "id": "64uuCn3W-xMM"
      }
    },
    {
      "cell_type": "code",
      "source": [
        "#  10. How to make a python function that handles scalars to work on numpy arrays?\n",
        "# Hint\n",
        "# Desired Output:\n",
        "# a = np.array([5, 7, 9, 8, 6, 4, 5])\n",
        "# b = np.array([6, 3, 4, 8, 9, 7, 1])\n",
        "\n",
        "\n",
        "# b = np.array([6, 3, 4, 8, 9, 7, 1])\n",
        "# pair_max(a, b)\n",
        "# #> array([ 6.,  7.,  9.,  8.,  9.,  7.,  5.])\n",
        "# your code here\n",
        "import numpy as np\n",
        "def maxx(x, y):\n",
        "    \"\"\"Get the maximum of two items\"\"\"\n",
        "    if x >= y:\n",
        "        return x\n",
        "    else:\n",
        "        return y\n",
        "a = np.array([5, 7, 9, 8, 6, 4, 5])\n",
        "b = np.array([6, 3, 4, 8, 9, 7, 1])\n",
        "#maxx(a, b)\n",
        "tmp=list()\n",
        "for i in range(len(a)):\n",
        "  tmp.append(maxx(a[i],b[i]))\n",
        "\n",
        "print(tmp)"
      ],
      "metadata": {
        "colab": {
          "base_uri": "https://localhost:8080/"
        },
        "id": "cRZTSeaX-z6A",
        "outputId": "88b97de8-64eb-4896-f5fa-034abc617db4"
      },
      "execution_count": null,
      "outputs": [
        {
          "output_type": "stream",
          "name": "stdout",
          "text": [
            "[6, 7, 9, 8, 9, 7, 5]\n"
          ]
        }
      ]
    },
    {
      "cell_type": "markdown",
      "source": [
        "Funcion vectorial"
      ],
      "metadata": {
        "id": "82Ty5rpvBYe3"
      }
    },
    {
      "cell_type": "code",
      "source": [
        "newFuntionArrays=np.vectorize(maxx)\n",
        "newFuntionArrays(a,b)"
      ],
      "metadata": {
        "colab": {
          "base_uri": "https://localhost:8080/"
        },
        "id": "kP8d0xICBbUM",
        "outputId": "25174169-dc14-430a-c655-6a9c447bad02"
      },
      "execution_count": null,
      "outputs": [
        {
          "output_type": "execute_result",
          "data": {
            "text/plain": [
              "array([6, 7, 9, 8, 9, 7, 5])"
            ]
          },
          "metadata": {},
          "execution_count": 33
        }
      ]
    }
  ]
}